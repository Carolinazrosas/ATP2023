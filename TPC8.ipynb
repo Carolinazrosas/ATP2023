{
 "cells": [
  {
   "cell_type": "markdown",
   "metadata": {},
   "source": [
    "## TPC8: Teste de aferição\n",
    "\n",
    "Resolva os problemas apresentados a seguir."
   ]
  },
  {
   "cell_type": "markdown",
   "metadata": {},
   "source": [
    "### tpc-1. Especifique as seguintes listas em compreensão:"
   ]
  },
  {
   "cell_type": "markdown",
   "metadata": {},
   "source": [
    "#### a) Lista formada pelos elementos que não são comuns às duas listas:"
   ]
  },
  {
   "cell_type": "code",
   "execution_count": null,
   "metadata": {},
   "outputs": [],
   "source": [
    "lista1 = [1, 2, 3, 4, 5]\n",
    "lista2 = [4, 5, 6, 7, 8]  \n",
    "comuns = [...]\n",
    "\n",
    "def naocomuns (lista1, lista2) :\n",
    "    res = []\n",
    "    for i in lista1 + lista2 :\n",
    "        if i not in lista1 or i not in lista2:\n",
    "            res.append (i)\n",
    "    return res\n",
    "        \n",
    "naocomuns(lista1,lista2)\n",
    "\n",
    "\n",
    "# Resultado esperado: [1,2,3,5,7,8]"
   ]
  },
  {
   "cell_type": "markdown",
   "metadata": {},
   "source": [
    "#### b) Lista formada pelas palavras do texto compostas por mais de 3 letras:"
   ]
  },
  {
   "cell_type": "code",
   "execution_count": null,
   "metadata": {},
   "outputs": [],
   "source": [
    "texto = \"\"\"Vivia há já não poucos anos algures num concelho do Ribatejo \n",
    "    um pequeno lavrador e negociante de gado chamado Manuel Peres Vigário\"\"\"\n",
    "\n",
    "def tresletras (textos) :\n",
    "    lista = []\n",
    "    texto = str(textos)\n",
    "    texto = texto.strip(\"\\n\").split(\" \")\n",
    "    for palavra in texto :\n",
    "        if len(palavra) > 3 :\n",
    "            if palavra not in lista :\n",
    "                lista.append(palavra)\n",
    "                    \n",
    "    return lista\n",
    "\n",
    "tresletras(texto)\n",
    "\n",
    "# Resultado esperado: ['Vivia', 'poucos', 'anos', 'algures', 'concelho', ...]"
   ]
  },
  {
   "cell_type": "markdown",
   "metadata": {},
   "source": [
    "#### c) Lista formada por pares do tipo (índice, valor) com os valores da lista dada:"
   ]
  },
  {
   "cell_type": "code",
   "execution_count": null,
   "metadata": {},
   "outputs": [],
   "source": [
    "lista = ['anaconda', 'burro', 'cavalo', 'macaco']\n",
    "listaRes = [...]\n",
    "\n",
    "def indice (lista) :\n",
    "    listaRes = []\n",
    "    for i in range (0,len(lista)) :\n",
    "            resultado = i+1, lista[i]\n",
    "            listaRes.append((resultado))\n",
    "    return listaRes\n",
    "\n",
    "indice(lista)\n",
    "# Resultado esperado: [(1,'anaconda'), (2,'burro'), (3,'cavalo'), (4,'macaco')]"
   ]
  },
  {
   "cell_type": "markdown",
   "metadata": {},
   "source": [
    "### tpc-2. À semelhança do que foi feito nas aulas, realize as seguintes tarefas:"
   ]
  },
  {
   "cell_type": "markdown",
   "metadata": {},
   "source": [
    "#### a) Especifique uma função que dada uma string e uma substring não vazia, calcula  o número de vezes em que a substring aparece na string, sem que haja sobreposição de substrings:"
   ]
  },
  {
   "cell_type": "code",
   "execution_count": null,
   "metadata": {},
   "outputs": [],
   "source": [
    "def strCount(s, subs):\n",
    "    s = list(s)\n",
    "    subs = list(subs)\n",
    "    contagem = 0\n",
    "    i = 0\n",
    "    while i < (len(s)-1):\n",
    "        if s[i] == subs[0] :\n",
    "            if s[i + 1] == subs[1] :\n",
    "                contagem += 1\n",
    "        i = i + 1\n",
    "    return contagem\n",
    "\n",
    "a = strCount(\"catcowcat\", \"cat\")\n",
    "\n",
    "b = strCount(\"catcowcat\", \"cow\") \n",
    "\n",
    "c = strCount(\"catcowcat\", \"dog\") \n",
    "\n",
    "print(a,b,c)"
   ]
  },
  {
   "cell_type": "markdown",
   "metadata": {},
   "source": [
    "#### b) Especifique uma função que recebe uma lista de números inteiros positivos e devolve o menor produto que for possível calcular multiplicando os 3 menores inteiros da lista:"
   ]
  },
  {
   "cell_type": "code",
   "execution_count": null,
   "metadata": {},
   "outputs": [],
   "source": [
    "def produtoM3(lista):\n",
    "    lista = sorted(lista)\n",
    "    res = lista[0] * lista[1] * lista [2]\n",
    "    return  res\n",
    "\n",
    "print(produtoM3([12,3,7,10,12,8,9]))\n",
    "# Resultado esperado: 168 = 3 * 7 * 8"
   ]
  },
  {
   "cell_type": "markdown",
   "metadata": {},
   "source": [
    "#### c) Especifique uma função que dado um número inteiro positivo, repetidamente adiciona os seus dígitos até obter apenas um dígito que é retornado como resultado:"
   ]
  },
  {
   "cell_type": "code",
   "execution_count": null,
   "metadata": {},
   "outputs": [],
   "source": [
    "# Input: 38\n",
    "# Output: 2\n",
    "# Explicação: 3 + 8 = 11, 1 + 1 = 2.\n",
    "\n",
    "# Input: 777\n",
    "# Output: 3\n",
    "# Explicação: 7 + 7 + 7 = 21, 2 + 1 = 3.\n",
    "\n",
    "def soma (lista,b):\n",
    "    i = 0\n",
    "    somatório = 0\n",
    "    while i < len(lista) :\n",
    "        somatório = somatório + int(lista [i])\n",
    "        i = i + 1\n",
    "    return somatório \n",
    "        \n",
    "    \n",
    "\n",
    "def reduxInt(n):\n",
    "    m = list(str(n))\n",
    "    print(m)\n",
    "    somar = 0\n",
    "    while len(m) != 1 : \n",
    "        i = 0 \n",
    "        somar = soma(m,len(m)-1)\n",
    "        print (somar)\n",
    "        m = list(str(somar))\n",
    "    return str(m)\n",
    "                  \n",
    "\n",
    "reduxInt(21)"
   ]
  },
  {
   "cell_type": "markdown",
   "metadata": {},
   "source": [
    "#### d) Especifique uma função que recebe duas strings, `string1` e `string2`, e devolve o índice da primeira ocorrência de `string2` em `string1`, caso não ocorra nenhuma vez a função deverá retornar `-1`:"
   ]
  },
  {
   "cell_type": "code",
   "execution_count": null,
   "metadata": {},
   "outputs": [],
   "source": [
    "# Invocação: indexOf(\"Hoje está um belo dia de sol!\", \"belo\")\n",
    "# Resultado: 13\n",
    "\n",
    "# Invocação: indexOf(\"Hoje está um belo dia de sol!\", \"chuva\")\n",
    "# Resultado: -1\n",
    "\n",
    "def myIndexOf(s1, s2):\n",
    "\n",
    "    s1= list(s1)\n",
    "    s2=list(s2)\n",
    "    for i in range (0,len(s1)-1) :\n",
    "        if s1[i] == s2[0] :\n",
    "            print(s1[i+len(s2)-1])\n",
    "            if s1[i+len(s2)-1] == s2[-1] :\n",
    "                return print(\"Resultado: \"+ str(i))\n",
    "                        \n",
    "    else: return print(\"Resultado: -1\") \n",
    "myIndexOf(\"Hoje está um belo dia de sol!\", \"chuva\")\n"
   ]
  },
  {
   "cell_type": "markdown",
   "metadata": {},
   "source": [
    "### tpc-3. A Rede Social\n",
    "\n",
    "Considere que a informação sobre uma rede social está armazenada numa lista de dicionários.\n",
    "\n",
    "Cada dicionário, correspondente a um _post_ e tem chaves `id`, `conteudo`, `autor`, `dataCriacao` e `comentarios`.\n",
    "Por sua vez, `comentarios` é uma lista de dicionários com chaves `comentario` e `autor`.\n",
    "\n",
    "Considere o seguinte exemplo:\n",
    "\n",
    "``` \n",
    "    MyFaceBook = [{\n",
    "        'id': 'p1', \n",
    "        'conteudo': 'A tarefa de avaliação é talvez a mais ingrata das tarefas que um professor\n",
    "    tem de realizar...', \n",
    "        'autor': 'jcr', \n",
    "        'dataCriacao': '2023-07-20', \n",
    "        'comentarios': [\n",
    "            {\n",
    "                'comentario': 'Completamente de acordo...',\n",
    "                'autor': 'prh'\n",
    "            },\n",
    "            {\n",
    "                'comentario': 'Mas há quem goste...',\n",
    "                'autor': 'jj'\n",
    "            }\n",
    "        ]},\n",
    "        {\n",
    "            'id': 'p2',\n",
    "            ...\n",
    "        },\n",
    "        ...\n",
    "        ]\n",
    "```"
   ]
  },
  {
   "cell_type": "code",
   "execution_count": null,
   "metadata": {},
   "outputs": [],
   "source": [
    "MyFacebook = [{'id': 'p1', \n",
    "        'conteudo': 'A tarefa de avaliação é talvez a mais ingrata das tarefas que um professor tem de realizar...', \n",
    "        'autor': 'jcr', \n",
    "        'dataCriacao': '2023-07-20', \n",
    "        'comentarios': [{'comentario': 'Completamente de acordo...', 'autor': 'prh'}, {'comentario': 'Mas há quem goste...','autor': 'jj'}]},\n",
    "        {'id': 'p2', \n",
    "        'conteudo': 'A tarefa de avaliação é talvez a mais ingrata das tarefas que um professor tem de realizar...', \n",
    "        'autor': 'jcr', \n",
    "        'dataCriacao': '2023-07-20', \n",
    "        'comentarios': [{'comentario': 'Completamente de acordo...', 'autor': 'prh'}, {'comentario': 'Mas há quem goste...','autor': 'jj'}]},\n",
    "        {'id': 'p3', \n",
    "        'conteudo': 'A tarefa de avaliação é talvez a mais ingrata das tarefas que um professor tem de realizar...', \n",
    "        'autor': 'jj', \n",
    "        'dataCriacao': '2023-07-20', \n",
    "        'comentarios': [{'comentario': 'Completamente de acordo...', 'autor': 'ana'}, {'comentario': 'Mas há quem goste...','autor': 'jj'}]}]"
   ]
  },
  {
   "cell_type": "markdown",
   "metadata": {},
   "source": [
    "#### a) `quantosPost`, que indica quantos posts estão registados:"
   ]
  },
  {
   "cell_type": "code",
   "execution_count": null,
   "metadata": {},
   "outputs": [],
   "source": [
    "def quantosPost(redeSocial):\n",
    "    n_posts = 0 \n",
    "    for id in redeSocial:\n",
    "        n_posts += 1 \n",
    "    return n_posts\n",
    "\n",
    "quantosPost(MyFacebook)"
   ]
  },
  {
   "cell_type": "markdown",
   "metadata": {},
   "source": [
    "#### b)  `postsAutor`, que devolve a lista de posts de um determinado autor:"
   ]
  },
  {
   "cell_type": "code",
   "execution_count": null,
   "metadata": {},
   "outputs": [],
   "source": [
    "def postsAutor(redeSocial, autor):\n",
    "    posts = []\n",
    "    for post in redeSocial:\n",
    "        if post['autor'] == autor :\n",
    "            posts.append(post['conteudo'])\n",
    "    return print(\"O autor \" + str(autor) + \" publicou os seguintes posts: \" + str(posts))\n",
    "\n",
    "postsAutor(MyFacebook, 'jcr')"
   ]
  },
  {
   "cell_type": "markdown",
   "metadata": {},
   "source": [
    "#### c) `autores`, que devolve a lista de autores de posts ordenada alfabeticamente:"
   ]
  },
  {
   "cell_type": "code",
   "execution_count": null,
   "metadata": {},
   "outputs": [],
   "source": [
    "def autores(redeSocial):\n",
    "    posts = []\n",
    "    for post in redeSocial:\n",
    "        if post['autor'] not in posts:\n",
    "            posts.append(post['autor'])\n",
    "        posts.sort()\n",
    "    return posts\n",
    "\n",
    "autores(MyFacebook)"
   ]
  },
  {
   "cell_type": "markdown",
   "metadata": {},
   "source": [
    "#### d) `insPost`, que acrescenta um novo post à rede social a partir dos parâmetros recebidos e devolve a nova rede social. \n",
    "    \n",
    "O campo `id` devrá ser calculado a partir dos já existentes, por exemplo, se a rede tiver posts com id `p1`, `p2` e `p3`, o novo `id` deverá ser `p4`."
   ]
  },
  {
   "cell_type": "code",
   "execution_count": null,
   "metadata": {},
   "outputs": [],
   "source": [
    "def insPost(redeSocial, conteudo, autor, dataCriacao, comentarios):\n",
    "    nome = \"p\"+ str(quantosPost(redeSocial) + 1)\n",
    "    postnovo = {'id': nome, 'conteudo': conteudo, 'autor': autor, 'dataCriacao': dataCriacao, 'comentarios': comentarios}\n",
    "    redeSocial.append(postnovo)\n",
    "    return redeSocial\n",
    "\n",
    "\n",
    "print (insPost(MyFacebook, 'Adoro Engenharia Biomédica!!!!', 'a25', '19-11-2023', 'concordo'))"
   ]
  },
  {
   "cell_type": "markdown",
   "metadata": {},
   "source": [
    "#### e)  `remPost`, que remove um post da rede, correspondente ao `id` recebido."
   ]
  },
  {
   "cell_type": "code",
   "execution_count": 27,
   "metadata": {},
   "outputs": [
    {
     "name": "stdout",
     "output_type": "stream",
     "text": [
      "[{'id': 'p1', 'conteudo': 'A tarefa de avaliação é talvez a mais ingrata das tarefas que um professortem de realizar...', 'autor': 'jcr', 'dataCriacao': '2023-07-20', 'comentarios': [{'comentario': 'Completamente de acordo...', 'autor': 'prh'}, {'comentario': 'Mas há quem goste...', 'autor': 'jj'}]}, {'id': 'p2', 'conteudo': 'A tarefa de avaliação é talvez a mais ingrata das tarefas que um professortem de realizar...', 'autor': 'jcr', 'dataCriacao': '2023-07-20', 'comentarios': [{'comentario': 'Completamente de acordo...', 'autor': 'prh'}, {'comentario': 'Mas há quem goste...', 'autor': 'jj'}]}, {'id': 'p3', 'conteudo': 'A tarefa de avaliação é talvez a mais ingrata das tarefas que um professortem de realizar...', 'autor': 'ana', 'dataCriacao': '2023-07-20', 'comentarios': [{'comentario': 'Completamente de acordo...', 'autor': 'ana'}, {'comentario': 'Mas há quem goste...', 'autor': 'jj'}]}, {'id': 'p5', 'conteudo': 'Adoro Engenharia Biomédica', 'autor': 'a25', 'dataCriacao': '19-11-2023', 'comentarios': 'concordo'}, {'id': 'p6', 'conteudo': 'Adoro Engenharia Biomédica!!!!', 'autor': 'a25', 'dataCriacao': '19-11-2023', 'comentarios': 'concordo'}]\n"
     ]
    }
   ],
   "source": [
    "def remPost(redeSocial, id):\n",
    "    novalista = []\n",
    "    for post in redeSocial:\n",
    "        if post[\"id\"] != id:\n",
    "            novalista.append(post)\n",
    "    return novalista\n",
    "\n",
    "print (remPost(MyFacebook, 'p4'))"
   ]
  },
  {
   "cell_type": "markdown",
   "metadata": {},
   "source": [
    "#### f) `postsPorAutor`, que devolve uma distribuição de posts por autor (à semelhança do que foi feito nas aulas)."
   ]
  },
  {
   "cell_type": "code",
   "execution_count": 30,
   "metadata": {},
   "outputs": [
    {
     "name": "stdout",
     "output_type": "stream",
     "text": [
      "[('jcr', {'id': 'p1', 'conteudo': 'A tarefa de avaliação é talvez a mais ingrata das tarefas que um professortem de realizar...', 'autor': 'jcr', 'dataCriacao': '2023-07-20', 'comentarios': [{'comentario': 'Completamente de acordo...', 'autor': 'prh'}, {'comentario': 'Mas há quem goste...', 'autor': 'jj'}]}), ('jcr', {'id': 'p2', 'conteudo': 'A tarefa de avaliação é talvez a mais ingrata das tarefas que um professortem de realizar...', 'autor': 'jcr', 'dataCriacao': '2023-07-20', 'comentarios': [{'comentario': 'Completamente de acordo...', 'autor': 'prh'}, {'comentario': 'Mas há quem goste...', 'autor': 'jj'}]}), ('ana', {'id': 'p3', 'conteudo': 'A tarefa de avaliação é talvez a mais ingrata das tarefas que um professortem de realizar...', 'autor': 'ana', 'dataCriacao': '2023-07-20', 'comentarios': [{'comentario': 'Completamente de acordo...', 'autor': 'ana'}, {'comentario': 'Mas há quem goste...', 'autor': 'jj'}]}), ('autor', {'id': 'p4', 'conteudo': 'conteudo', 'autor': 'autor', 'dataCriacao': 'dataCriacao', 'comentarios': 'comentarios'}), ('a25', {'id': 'p5', 'conteudo': 'Adoro Engenharia Biomédica', 'autor': 'a25', 'dataCriacao': '19-11-2023', 'comentarios': 'concordo'}), ('a25', {'id': 'p6', 'conteudo': 'Adoro Engenharia Biomédica!!!!', 'autor': 'a25', 'dataCriacao': '19-11-2023', 'comentarios': 'concordo'})]\n"
     ]
    }
   ],
   "source": [
    "def postsPorAutor(redeSocial):\n",
    "    listaposts = []\n",
    "    for post in redeSocial:\n",
    "        res = (post['autor'], post)\n",
    "        listaposts.append(res)\n",
    "    return listaposts\n",
    "\n",
    "print (postsPorAutor(MyFacebook))   "
   ]
  },
  {
   "cell_type": "markdown",
   "metadata": {},
   "source": [
    "#### g) `comentadoPor`, que recebe um autor e devolve a lista de posts comentados por esse autor."
   ]
  },
  {
   "cell_type": "code",
   "execution_count": 32,
   "metadata": {},
   "outputs": [
    {
     "name": "stdout",
     "output_type": "stream",
     "text": [
      "[{'id': 'p3', 'conteudo': 'A tarefa de avaliação é talvez a mais ingrata das tarefas que um professortem de realizar...', 'autor': 'ana', 'dataCriacao': '2023-07-20', 'comentarios': [{'comentario': 'Completamente de acordo...', 'autor': 'ana'}, {'comentario': 'Mas há quem goste...', 'autor': 'jj'}]}]\n"
     ]
    }
   ],
   "source": [
    "def comentadoPor(redeSocial, autor):\n",
    "    listaposts = []\n",
    "    for post in redeSocial:\n",
    "        if post['autor'] == autor:\n",
    "            for comentario in post['comentarios']:\n",
    "                if comentario['autor'] == autor:\n",
    "                    listaposts.append(post)\n",
    "    return listaposts\n",
    "\n",
    "print (comentadoPor(MyFacebook,'ana'))"
   ]
  }
 ],
 "metadata": {
  "kernelspec": {
   "display_name": "Python 3",
   "language": "python",
   "name": "python3"
  },
  "language_info": {
   "codemirror_mode": {
    "name": "ipython",
    "version": 3
   },
   "file_extension": ".py",
   "mimetype": "text/x-python",
   "name": "python",
   "nbconvert_exporter": "python",
   "pygments_lexer": "ipython3",
   "version": "3.11.6"
  }
 },
 "nbformat": 4,
 "nbformat_minor": 2
}
