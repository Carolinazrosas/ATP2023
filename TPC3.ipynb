{
 "cells": [
  {
   "cell_type": "markdown",
   "metadata": {},
   "source": [
    "## TPC3: Adivinha o número!?\n",
    "\n",
    "Desenvolve em Python o código necessário para o jogo do Adivinha o número: \n",
    "* O jogo deverá ter dois modos: o computador tenta acertar no número que o jogador pensou ou, o jogador tenta acertar no número que o computador pensou; \n",
    "* No fim, o programa deverá indicar quantas tentativas foram realizadas para chegar ao resultado;\n",
    "* O Jogo: \n",
    "    - o utilizador pensa num número entre 0 e 100;\n",
    "    - o computador tenta adivinhar indicando um número do intervalo;\n",
    "    - o utilizador indica se o número em que pensou é **maior**, **menor**, ou se o computador **acertou**;\n",
    "    - ao terminar, o programa imprime o número de tentativas que o computador teve de fazer até chegar ao número.\n",
    "\n",
    "Que conclusão podes tirar sobre o número de tentativas necessárias para um número entre 0 e 100? E se fosse entre 0 e 1000?"
   ]
  },
  {
   "cell_type": "code",
   "execution_count": 13,
   "metadata": {},
   "outputs": [
    {
     "name": "stdout",
     "output_type": "stream",
     "text": [
      "Acertou! Em 7 tentativas.\n"
     ]
    }
   ],
   "source": [
    "import random\n",
    "d = random.randrange(1,100)\n",
    "n = 1 \n",
    "menor = 0\n",
    "maior = 100\n",
    "\n",
    "x = int(input(\"Pense (e insira) um número para o computador adivinhar.\"))\n",
    "m = input(\"É o seguinte número? Escreva SIM, se sim, ou NÃO, se não. \\n \" + str(d))\n",
    "while m == \"NÃO\":\n",
    "    altura = input(\"O seu número é MAIOR ou MENOR?\")\n",
    "    if altura == \"MAIOR\":\n",
    "        n += 1\n",
    "        d = random.randrange(d, maior)\n",
    "        m = input(\"É o seguinte número? Escreva SIM, se sim, ou NÃO, se não. \\n \" + str(d))\n",
    "    elif altura == \"MENOR\":\n",
    "        n += 1\n",
    "        d = random.randrange( 1 , d ) \n",
    "        \"\"\"if d < menor :\n",
    "            menor = d\n",
    "        else: menor = menor\"\"\"\n",
    "        m = input(\"É o seguinte número? Escreva SIM, se sim, ou NÃO, se não. \\n \" + str(d))\n",
    "else: print(\"Acertou! Em \" + str(n) + \" tentativas.\")"
   ]
  }
 ],
 "metadata": {
  "kernelspec": {
   "display_name": "Python 3",
   "language": "python",
   "name": "python3"
  },
  "language_info": {
   "codemirror_mode": {
    "name": "ipython",
    "version": 3
   },
   "file_extension": ".py",
   "mimetype": "text/x-python",
   "name": "python",
   "nbconvert_exporter": "python",
   "pygments_lexer": "ipython3",
   "version": "3.11.6"
  }
 },
 "nbformat": 4,
 "nbformat_minor": 2
}
